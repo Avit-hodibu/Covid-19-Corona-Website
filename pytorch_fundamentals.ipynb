{
  "nbformat": 4,
  "nbformat_minor": 0,
  "metadata": {
    "colab": {
      "provenance": [],
      "authorship_tag": "ABX9TyPiDo+O1XT8vK0I77by9hQR",
      "include_colab_link": true
    },
    "kernelspec": {
      "name": "python3",
      "display_name": "Python 3"
    },
    "language_info": {
      "name": "python"
    }
  },
  "cells": [
    {
      "cell_type": "markdown",
      "metadata": {
        "id": "view-in-github",
        "colab_type": "text"
      },
      "source": [
        "<a href=\"https://colab.research.google.com/github/Avit-hodibu/Covid-19-Corona-Website/blob/main/pytorch_fundamentals.ipynb\" target=\"_parent\"><img src=\"https://colab.research.google.com/assets/colab-badge.svg\" alt=\"Open In Colab\"/></a>"
      ]
    },
    {
      "cell_type": "code",
      "execution_count": null,
      "metadata": {
        "id": "NMz2bLREy4BR"
      },
      "outputs": [],
      "source": [
        "import torch\n",
        "import pandas as pd\n",
        "import numpy as np\n",
        "import matplotlib.pyplot as plt"
      ]
    },
    {
      "cell_type": "code",
      "source": [
        "scalar= torch.tensor(7)\n",
        "scalar"
      ],
      "metadata": {
        "colab": {
          "base_uri": "https://localhost:8080/"
        },
        "id": "Uud5a-8yG4Yu",
        "outputId": "cf7db287-07e6-49d2-b096-77dc84aa70fb"
      },
      "execution_count": null,
      "outputs": [
        {
          "output_type": "execute_result",
          "data": {
            "text/plain": [
              "tensor(7)"
            ]
          },
          "metadata": {},
          "execution_count": 4
        }
      ]
    },
    {
      "cell_type": "markdown",
      "source": [],
      "metadata": {
        "id": "-oppTQMxZqFB"
      }
    },
    {
      "cell_type": "code",
      "source": [
        "scalar.shape"
      ],
      "metadata": {
        "colab": {
          "base_uri": "https://localhost:8080/"
        },
        "id": "Bqb1U5huJJlK",
        "outputId": "79f4512a-6d80-41ca-fdeb-e6abd0978016"
      },
      "execution_count": null,
      "outputs": [
        {
          "output_type": "execute_result",
          "data": {
            "text/plain": [
              "torch.Size([])"
            ]
          },
          "metadata": {},
          "execution_count": 10
        }
      ]
    },
    {
      "cell_type": "code",
      "source": [
        "scalar.ndim"
      ],
      "metadata": {
        "colab": {
          "base_uri": "https://localhost:8080/"
        },
        "id": "oH-1u-TiHDpD",
        "outputId": "d7efd644-2e16-4da4-d9f9-60fa51570e52"
      },
      "execution_count": null,
      "outputs": [
        {
          "output_type": "execute_result",
          "data": {
            "text/plain": [
              "0"
            ]
          },
          "metadata": {},
          "execution_count": 5
        }
      ]
    },
    {
      "cell_type": "code",
      "source": [
        "#tensor as python int\n",
        "scalar.item()"
      ],
      "metadata": {
        "colab": {
          "base_uri": "https://localhost:8080/"
        },
        "id": "IkxIgNX4HHD7",
        "outputId": "89d0043b-c328-4ee4-af68-6a08a70b6db1"
      },
      "execution_count": null,
      "outputs": [
        {
          "output_type": "execute_result",
          "data": {
            "text/plain": [
              "7"
            ]
          },
          "metadata": {},
          "execution_count": 6
        }
      ]
    },
    {
      "cell_type": "code",
      "source": [
        "vector = torch.tensor([7,7])\n",
        "vector"
      ],
      "metadata": {
        "colab": {
          "base_uri": "https://localhost:8080/"
        },
        "id": "CB-dQuORIaDH",
        "outputId": "0759d00d-7a9c-4e62-f72f-e707c973e5d8"
      },
      "execution_count": null,
      "outputs": [
        {
          "output_type": "execute_result",
          "data": {
            "text/plain": [
              "tensor([7, 7])"
            ]
          },
          "metadata": {},
          "execution_count": 7
        }
      ]
    },
    {
      "cell_type": "code",
      "source": [
        "vector.ndim"
      ],
      "metadata": {
        "colab": {
          "base_uri": "https://localhost:8080/"
        },
        "id": "ojIqnC0CIyiw",
        "outputId": "d55b238b-09a4-41c7-bcd4-814cd33bc059"
      },
      "execution_count": null,
      "outputs": [
        {
          "output_type": "execute_result",
          "data": {
            "text/plain": [
              "1"
            ]
          },
          "metadata": {},
          "execution_count": 8
        }
      ]
    },
    {
      "cell_type": "code",
      "source": [
        "vector.shape"
      ],
      "metadata": {
        "colab": {
          "base_uri": "https://localhost:8080/"
        },
        "id": "1PIbAQ-6I4be",
        "outputId": "dc09a373-fdb6-4f51-b1d3-d502f4ec72a9"
      },
      "execution_count": null,
      "outputs": [
        {
          "output_type": "execute_result",
          "data": {
            "text/plain": [
              "torch.Size([2])"
            ]
          },
          "metadata": {},
          "execution_count": 9
        }
      ]
    },
    {
      "cell_type": "code",
      "source": [
        "vector[1]"
      ],
      "metadata": {
        "colab": {
          "base_uri": "https://localhost:8080/"
        },
        "id": "gotgvyhzJpTj",
        "outputId": "e1706265-ecfe-475b-b097-6b4697139527"
      },
      "execution_count": null,
      "outputs": [
        {
          "output_type": "execute_result",
          "data": {
            "text/plain": [
              "tensor(7)"
            ]
          },
          "metadata": {},
          "execution_count": 14
        }
      ]
    },
    {
      "cell_type": "code",
      "source": [
        "matrix = torch.tensor([[7,8],[9,10]])\n",
        "matrix"
      ],
      "metadata": {
        "colab": {
          "base_uri": "https://localhost:8080/"
        },
        "id": "oyx4pu6JJQoM",
        "outputId": "1ef5ab38-03dc-415b-afd0-4bb15dd1a6c4"
      },
      "execution_count": null,
      "outputs": [
        {
          "output_type": "execute_result",
          "data": {
            "text/plain": [
              "tensor([[ 7,  8],\n",
              "        [ 9, 10]])"
            ]
          },
          "metadata": {},
          "execution_count": 11
        }
      ]
    },
    {
      "cell_type": "code",
      "source": [
        "matrix.ndim"
      ],
      "metadata": {
        "colab": {
          "base_uri": "https://localhost:8080/"
        },
        "id": "DTVp7A-JJZpE",
        "outputId": "e1da0041-4d25-4b9b-cb9b-731b1bfd1668"
      },
      "execution_count": null,
      "outputs": [
        {
          "output_type": "execute_result",
          "data": {
            "text/plain": [
              "2"
            ]
          },
          "metadata": {},
          "execution_count": 12
        }
      ]
    },
    {
      "cell_type": "code",
      "source": [
        "matrix.shape"
      ],
      "metadata": {
        "colab": {
          "base_uri": "https://localhost:8080/"
        },
        "id": "InWvqlZEJeAt",
        "outputId": "bbd783a5-6540-4793-928b-7c28398f868a"
      },
      "execution_count": null,
      "outputs": [
        {
          "output_type": "execute_result",
          "data": {
            "text/plain": [
              "torch.Size([2, 2])"
            ]
          },
          "metadata": {},
          "execution_count": 13
        }
      ]
    },
    {
      "cell_type": "code",
      "source": [
        "matrix[1]"
      ],
      "metadata": {
        "colab": {
          "base_uri": "https://localhost:8080/"
        },
        "id": "3FiGEVw3Jwc8",
        "outputId": "9204ac33-4ee6-4118-803e-96180c9b7dac"
      },
      "execution_count": null,
      "outputs": [
        {
          "output_type": "execute_result",
          "data": {
            "text/plain": [
              "tensor([ 9, 10])"
            ]
          },
          "metadata": {},
          "execution_count": 15
        }
      ]
    },
    {
      "cell_type": "code",
      "source": [
        "tensor = torch.tensor([[[1,2,3],[3,6,9],[5,10,15]]])\n",
        "tensor"
      ],
      "metadata": {
        "colab": {
          "base_uri": "https://localhost:8080/"
        },
        "id": "ikjc38QVJ_Lb",
        "outputId": "9bce2713-c401-4d82-da17-b812ab071970"
      },
      "execution_count": null,
      "outputs": [
        {
          "output_type": "execute_result",
          "data": {
            "text/plain": [
              "tensor([[[ 1,  2,  3],\n",
              "         [ 3,  6,  9],\n",
              "         [ 5, 10, 15]]])"
            ]
          },
          "metadata": {},
          "execution_count": 22
        }
      ]
    },
    {
      "cell_type": "markdown",
      "source": [
        "tensor= 1 matrix with 3 row and 3 column"
      ],
      "metadata": {
        "id": "92gSAJjSLL_p"
      }
    },
    {
      "cell_type": "code",
      "source": [
        "tensor.ndim"
      ],
      "metadata": {
        "colab": {
          "base_uri": "https://localhost:8080/"
        },
        "id": "iOUSEt73KZhR",
        "outputId": "eb7e9f14-8a21-4479-e441-3eb6f54703d9"
      },
      "execution_count": null,
      "outputs": [
        {
          "output_type": "execute_result",
          "data": {
            "text/plain": [
              "3"
            ]
          },
          "metadata": {},
          "execution_count": 23
        }
      ]
    },
    {
      "cell_type": "code",
      "source": [
        "tensor.shape"
      ],
      "metadata": {
        "colab": {
          "base_uri": "https://localhost:8080/"
        },
        "id": "Zb4jHjF9KjmN",
        "outputId": "c8ba2b20-b59c-45bf-a1fd-62c2f2b3d317"
      },
      "execution_count": null,
      "outputs": [
        {
          "output_type": "execute_result",
          "data": {
            "text/plain": [
              "torch.Size([1, 3, 3])"
            ]
          },
          "metadata": {},
          "execution_count": 24
        }
      ]
    },
    {
      "cell_type": "code",
      "source": [
        "tensor[0]"
      ],
      "metadata": {
        "colab": {
          "base_uri": "https://localhost:8080/"
        },
        "id": "Rh18utW4K6Di",
        "outputId": "6617c423-6363-434b-8565-8925251668e1"
      },
      "execution_count": null,
      "outputs": [
        {
          "output_type": "execute_result",
          "data": {
            "text/plain": [
              "tensor([[ 1,  2,  3],\n",
              "        [ 3,  6,  9],\n",
              "        [ 5, 10, 15]])"
            ]
          },
          "metadata": {},
          "execution_count": 25
        }
      ]
    },
    {
      "cell_type": "code",
      "source": [
        "tensor1 = torch.tensor([[[1,2,3],[3,6,9],[5,10,15]],[[1,2,3],[3,6,9],[5,10,15]]])\n",
        "tensor1"
      ],
      "metadata": {
        "colab": {
          "base_uri": "https://localhost:8080/"
        },
        "id": "v_QRFefOLanb",
        "outputId": "66335003-0011-44af-af72-7411b6b7089b"
      },
      "execution_count": null,
      "outputs": [
        {
          "output_type": "execute_result",
          "data": {
            "text/plain": [
              "tensor([[[ 1,  2,  3],\n",
              "         [ 3,  6,  9],\n",
              "         [ 5, 10, 15]],\n",
              "\n",
              "        [[ 1,  2,  3],\n",
              "         [ 3,  6,  9],\n",
              "         [ 5, 10, 15]]])"
            ]
          },
          "metadata": {},
          "execution_count": 28
        }
      ]
    },
    {
      "cell_type": "code",
      "source": [
        "tensor1.ndim"
      ],
      "metadata": {
        "colab": {
          "base_uri": "https://localhost:8080/"
        },
        "id": "Afpb4hjiMJ0a",
        "outputId": "8e3658e2-682b-4266-e421-8dab009a7430"
      },
      "execution_count": null,
      "outputs": [
        {
          "output_type": "execute_result",
          "data": {
            "text/plain": [
              "3"
            ]
          },
          "metadata": {},
          "execution_count": 29
        }
      ]
    },
    {
      "cell_type": "code",
      "source": [
        "tensor1.shape"
      ],
      "metadata": {
        "colab": {
          "base_uri": "https://localhost:8080/"
        },
        "id": "ukMXKzrpMQYq",
        "outputId": "8113d2d4-d194-4dd1-9927-967ab8b1d21d"
      },
      "execution_count": null,
      "outputs": [
        {
          "output_type": "execute_result",
          "data": {
            "text/plain": [
              "torch.Size([2, 3, 3])"
            ]
          },
          "metadata": {},
          "execution_count": 30
        }
      ]
    },
    {
      "cell_type": "markdown",
      "source": [
        "![image.png](data:image/png;base64,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)"
      ],
      "metadata": {
        "id": "Ug2QHuSAMnbW"
      }
    },
    {
      "cell_type": "markdown",
      "source": [
        "for naming varible scalar and vector is use lowercase\n",
        "for matrix and tensor is uppercase"
      ],
      "metadata": {
        "id": "pIwCD7rxNSc-"
      }
    },
    {
      "cell_type": "markdown",
      "source": [
        "### Random tensors\n",
        "why random tensor?\n",
        "<br>\n",
        "the way many neural  networks learn is that they start with tensors full of random numbers and then adjust those random numbers to better represent the data.\n",
        "`Start with rand numbers -> look at data -> update rand numbers -> look at data -> update rand numbers`"
      ],
      "metadata": {
        "id": "qkR9PxWqNpeJ"
      }
    },
    {
      "cell_type": "code",
      "source": [
        "#create rand tensor of size(3,4)\n",
        "random_tensor= torch.rand(3,4)\n",
        "random_tensor"
      ],
      "metadata": {
        "id": "NrU-Wrl-NRsI",
        "colab": {
          "base_uri": "https://localhost:8080/"
        },
        "outputId": "57042c74-b6a7-44af-a973-0cb34911cb8a"
      },
      "execution_count": null,
      "outputs": [
        {
          "output_type": "execute_result",
          "data": {
            "text/plain": [
              "tensor([[0.5469, 0.9869, 0.1985, 0.2794],\n",
              "        [0.8393, 0.8837, 0.5304, 0.3526],\n",
              "        [0.3741, 0.8021, 0.0600, 0.6968]])"
            ]
          },
          "metadata": {},
          "execution_count": 2
        }
      ]
    },
    {
      "cell_type": "code",
      "source": [
        "random_tensor.dtype"
      ],
      "metadata": {
        "id": "2IDRx2RVMqFO",
        "colab": {
          "base_uri": "https://localhost:8080/"
        },
        "outputId": "30339001-3d0f-4b8b-9953-d43e99b3c340"
      },
      "execution_count": null,
      "outputs": [
        {
          "output_type": "execute_result",
          "data": {
            "text/plain": [
              "torch.float32"
            ]
          },
          "metadata": {},
          "execution_count": 3
        }
      ]
    },
    {
      "cell_type": "code",
      "source": [
        "random_tensor.ndim"
      ],
      "metadata": {
        "colab": {
          "base_uri": "https://localhost:8080/"
        },
        "id": "siexOO4D64oO",
        "outputId": "72463079-f4f2-4b91-a2e6-882788086ecc"
      },
      "execution_count": null,
      "outputs": [
        {
          "output_type": "execute_result",
          "data": {
            "text/plain": [
              "2"
            ]
          },
          "metadata": {},
          "execution_count": 4
        }
      ]
    },
    {
      "cell_type": "code",
      "source": [
        "random_tensor.shape"
      ],
      "metadata": {
        "colab": {
          "base_uri": "https://localhost:8080/"
        },
        "id": "I4bjzfJR6_Yu",
        "outputId": "1c7ad2ff-24a0-4a96-92e5-852cb59a3819"
      },
      "execution_count": null,
      "outputs": [
        {
          "output_type": "execute_result",
          "data": {
            "text/plain": [
              "torch.Size([3, 4])"
            ]
          },
          "metadata": {},
          "execution_count": 5
        }
      ]
    },
    {
      "cell_type": "code",
      "source": [
        "random_tensor1= torch.rand(2,3,4)\n",
        "random_tensor1"
      ],
      "metadata": {
        "colab": {
          "base_uri": "https://localhost:8080/"
        },
        "id": "tm7zMjhL7Eei",
        "outputId": "5cd57289-835b-4014-a707-2ed75e0645b0"
      },
      "execution_count": null,
      "outputs": [
        {
          "output_type": "execute_result",
          "data": {
            "text/plain": [
              "tensor([[[0.8407, 0.4645, 0.2344, 0.0829],\n",
              "         [0.2215, 0.4172, 0.7135, 0.5211],\n",
              "         [0.9363, 0.1645, 0.5568, 0.2811]],\n",
              "\n",
              "        [[0.8198, 0.1492, 0.0976, 0.4701],\n",
              "         [0.5193, 0.6064, 0.8313, 0.4738],\n",
              "         [0.6858, 0.6619, 0.2579, 0.7274]]])"
            ]
          },
          "metadata": {},
          "execution_count": 6
        }
      ]
    },
    {
      "cell_type": "code",
      "source": [
        "random_tensor1.ndim"
      ],
      "metadata": {
        "colab": {
          "base_uri": "https://localhost:8080/"
        },
        "id": "B3VnPciK7VlM",
        "outputId": "5a362062-9419-485a-8959-5c6e7a4093bb"
      },
      "execution_count": null,
      "outputs": [
        {
          "output_type": "execute_result",
          "data": {
            "text/plain": [
              "3"
            ]
          },
          "metadata": {},
          "execution_count": 7
        }
      ]
    },
    {
      "cell_type": "code",
      "source": [
        "#Create a random tensor with similar shape to an image tensor\n",
        "random_image_size_tensor= torch.rand(size=(3,224,224)) #colour channels (R,G,B), height, width\n",
        "random_image_size_tensor.shape, random_image_size_tensor.ndim"
      ],
      "metadata": {
        "colab": {
          "base_uri": "https://localhost:8080/"
        },
        "id": "TUIuv81H7pxP",
        "outputId": "2a6a6860-34ea-4720-eb7b-06658b5622ba"
      },
      "execution_count": null,
      "outputs": [
        {
          "output_type": "execute_result",
          "data": {
            "text/plain": [
              "(torch.Size([3, 224, 224]), 3)"
            ]
          },
          "metadata": {},
          "execution_count": 8
        }
      ]
    },
    {
      "cell_type": "markdown",
      "source": [
        "### Zeros and Ones"
      ],
      "metadata": {
        "id": "ZyjSBDL29QPy"
      }
    },
    {
      "cell_type": "code",
      "source": [
        "zeros =torch.zeros(3,4)\n",
        "zeros"
      ],
      "metadata": {
        "colab": {
          "base_uri": "https://localhost:8080/"
        },
        "id": "fUVVuHK69Tsp",
        "outputId": "896b45c9-c3ad-4c38-98e9-438bfecd3fea"
      },
      "execution_count": null,
      "outputs": [
        {
          "output_type": "execute_result",
          "data": {
            "text/plain": [
              "tensor([[0., 0., 0., 0.],\n",
              "        [0., 0., 0., 0.],\n",
              "        [0., 0., 0., 0.]])"
            ]
          },
          "metadata": {},
          "execution_count": 9
        }
      ]
    },
    {
      "cell_type": "code",
      "source": [
        "ones= torch.ones(3,4)\n",
        "ones"
      ],
      "metadata": {
        "colab": {
          "base_uri": "https://localhost:8080/"
        },
        "id": "fKfX1n-59mXx",
        "outputId": "80e0e346-cfa0-4fc2-dec7-44985b10136f"
      },
      "execution_count": null,
      "outputs": [
        {
          "output_type": "execute_result",
          "data": {
            "text/plain": [
              "tensor([[1., 1., 1., 1.],\n",
              "        [1., 1., 1., 1.],\n",
              "        [1., 1., 1., 1.]])"
            ]
          },
          "metadata": {},
          "execution_count": 10
        }
      ]
    },
    {
      "cell_type": "markdown",
      "source": [
        "###Range"
      ],
      "metadata": {
        "id": "KOjfymTY99Xj"
      }
    },
    {
      "cell_type": "code",
      "source": [
        "# use torch.arange()\n",
        "one_to_ten= torch.arange(start=1,end=11, step= 1)\n",
        "one_to_ten"
      ],
      "metadata": {
        "colab": {
          "base_uri": "https://localhost:8080/"
        },
        "id": "z-EFt62w-A_8",
        "outputId": "25a40d04-b26d-496c-cc81-ebe088c135eb"
      },
      "execution_count": null,
      "outputs": [
        {
          "output_type": "execute_result",
          "data": {
            "text/plain": [
              "tensor([ 1,  2,  3,  4,  5,  6,  7,  8,  9, 10])"
            ]
          },
          "metadata": {},
          "execution_count": 11
        }
      ]
    },
    {
      "cell_type": "code",
      "source": [
        "ten_ones= torch.ones_like(input=one_to_ten)\n",
        "ten_ones"
      ],
      "metadata": {
        "colab": {
          "base_uri": "https://localhost:8080/"
        },
        "id": "sVI-xCnh-zYG",
        "outputId": "95b41df9-6271-4af8-fa33-6bbbaa55afbd"
      },
      "execution_count": null,
      "outputs": [
        {
          "output_type": "execute_result",
          "data": {
            "text/plain": [
              "tensor([1, 1, 1, 1, 1, 1, 1, 1, 1, 1])"
            ]
          },
          "metadata": {},
          "execution_count": 12
        }
      ]
    },
    {
      "cell_type": "markdown",
      "source": [
        "### Tensor Datatype"
      ],
      "metadata": {
        "id": "jsJcDaDR_P_A"
      }
    },
    {
      "cell_type": "code",
      "source": [
        "float_32_tensor= torch.tensor([3.0,6.0,9.0],\n",
        "                              dtype=None, # what datatype is the tensor (e.g. float16, )\n",
        "                              device=None, # device your tensor on = 'cpu''cuda' when computing both operation need to in same device\n",
        "                              requires_grad=False) # whether or not to track gradients with this tensors operations\n",
        "float_32_tensor"
      ],
      "metadata": {
        "colab": {
          "base_uri": "https://localhost:8080/"
        },
        "id": "WEG06ZhP_GEO",
        "outputId": "8113d604-7882-4ab0-be93-e66bdd4301c2"
      },
      "execution_count": null,
      "outputs": [
        {
          "output_type": "execute_result",
          "data": {
            "text/plain": [
              "tensor([3., 6., 9.])"
            ]
          },
          "metadata": {},
          "execution_count": 2
        }
      ]
    },
    {
      "cell_type": "code",
      "source": [
        "# default dtype is float32 in tensor\n",
        "float_32_tensor.dtype\n",
        "#more precision more bit"
      ],
      "metadata": {
        "colab": {
          "base_uri": "https://localhost:8080/"
        },
        "id": "9oV6Q_7l_nXf",
        "outputId": "797e5b57-5a2d-4cd6-fd0a-0f48ba150612"
      },
      "execution_count": null,
      "outputs": [
        {
          "output_type": "execute_result",
          "data": {
            "text/plain": [
              "torch.float32"
            ]
          },
          "metadata": {},
          "execution_count": 14
        }
      ]
    },
    {
      "cell_type": "code",
      "source": [
        "float_16_tensor= float_32_tensor.type(torch.float16)\n",
        "float_16_tensor"
      ],
      "metadata": {
        "id": "984Is4SK_3AN",
        "colab": {
          "base_uri": "https://localhost:8080/"
        },
        "outputId": "538c9e00-3755-4927-d620-5b7991fbded1"
      },
      "execution_count": null,
      "outputs": [
        {
          "output_type": "execute_result",
          "data": {
            "text/plain": [
              "tensor([3., 6., 9.], dtype=torch.float16)"
            ]
          },
          "metadata": {},
          "execution_count": 3
        }
      ]
    },
    {
      "cell_type": "markdown",
      "source": [
        "###Information from tensors\n",
        "\n",
        "1.   datatype= tensor.dtype\n",
        "2.   shape= tensor.shape\n",
        "3.   device =tensor.device\n",
        "\n",
        "\n",
        "\n",
        "\n",
        "\n"
      ],
      "metadata": {
        "id": "z2QTNgLHKIr_"
      }
    },
    {
      "cell_type": "code",
      "source": [
        "random_tensor= torch.rand(3,4)\n",
        "random_tensor"
      ],
      "metadata": {
        "colab": {
          "base_uri": "https://localhost:8080/"
        },
        "id": "xp6Zt6IqL2_R",
        "outputId": "afee8146-a3ad-4d04-c8e0-c01f7acec5c2"
      },
      "execution_count": null,
      "outputs": [
        {
          "output_type": "execute_result",
          "data": {
            "text/plain": [
              "tensor([[0.7205, 0.9887, 0.4073, 0.3543],\n",
              "        [0.9870, 0.8677, 0.1259, 0.7429],\n",
              "        [0.8995, 0.1604, 0.0153, 0.2502]])"
            ]
          },
          "metadata": {},
          "execution_count": 4
        }
      ]
    },
    {
      "cell_type": "code",
      "source": [
        "print(f\"Datatype of tensor: {random_tensor.dtype}\")\n",
        "print(f\"Shape of tensor: {random_tensor.size()}\") #function\n",
        "print(f\"Shape of tensor: {random_tensor.shape}\") #attribute\n",
        "print(f\"Device tensor is stored on: {float_32_tensor.device}\")"
      ],
      "metadata": {
        "colab": {
          "base_uri": "https://localhost:8080/"
        },
        "id": "_gOP-k5BKke9",
        "outputId": "a27d9977-5294-467b-ba2d-674d3f05954b"
      },
      "execution_count": null,
      "outputs": [
        {
          "output_type": "stream",
          "name": "stdout",
          "text": [
            "Datatype of tensor: torch.float32\n",
            "Shape of tensor: torch.Size([3, 4])\n",
            "Shape of tensor: torch.Size([3, 4])\n",
            "Device tensor is stored on: cpu\n"
          ]
        }
      ]
    },
    {
      "cell_type": "markdown",
      "source": [
        "### Manipulating Tensors (operations)\n",
        "* addition\n",
        "* subtraction\n",
        "* multipication\n",
        "* division\n",
        "* matrix multiplication"
      ],
      "metadata": {
        "id": "NYINTPh7M9fn"
      }
    },
    {
      "cell_type": "code",
      "source": [
        "#create a tensor and add\n",
        "tensor= torch.tensor([1,2,3])\n",
        "tensor+2"
      ],
      "metadata": {
        "colab": {
          "base_uri": "https://localhost:8080/"
        },
        "id": "Kq-LCEktNabn",
        "outputId": "9f2f2cd7-8fc0-40a5-f934-6217849edba1"
      },
      "execution_count": null,
      "outputs": [
        {
          "output_type": "execute_result",
          "data": {
            "text/plain": [
              "tensor([3, 4, 5])"
            ]
          },
          "metadata": {},
          "execution_count": 10
        }
      ]
    },
    {
      "cell_type": "code",
      "source": [
        "#sub\n",
        "tensor-1"
      ],
      "metadata": {
        "colab": {
          "base_uri": "https://localhost:8080/"
        },
        "id": "5lQLw2prN4K4",
        "outputId": "65d3a856-ed07-44bc-f99b-1a186ddccb4f"
      },
      "execution_count": null,
      "outputs": [
        {
          "output_type": "execute_result",
          "data": {
            "text/plain": [
              "tensor([0, 1, 2])"
            ]
          },
          "metadata": {},
          "execution_count": 12
        }
      ]
    },
    {
      "cell_type": "code",
      "source": [
        "#multiply\n",
        "tensor * 2"
      ],
      "metadata": {
        "colab": {
          "base_uri": "https://localhost:8080/"
        },
        "id": "-xCIkKt6Nnzx",
        "outputId": "bcecbe9e-a56e-4b95-f1bc-2a4c3e60f2e8"
      },
      "execution_count": null,
      "outputs": [
        {
          "output_type": "execute_result",
          "data": {
            "text/plain": [
              "tensor([2, 4, 6])"
            ]
          },
          "metadata": {},
          "execution_count": 11
        }
      ]
    },
    {
      "cell_type": "code",
      "source": [
        "#using bulit fun\n",
        "torch.mul(tensor,10)"
      ],
      "metadata": {
        "colab": {
          "base_uri": "https://localhost:8080/"
        },
        "id": "xdLrekozN-Ot",
        "outputId": "c0801756-e070-4407-b1c3-5b1d905c3a93"
      },
      "execution_count": null,
      "outputs": [
        {
          "output_type": "execute_result",
          "data": {
            "text/plain": [
              "tensor([10, 20, 30])"
            ]
          },
          "metadata": {},
          "execution_count": 13
        }
      ]
    },
    {
      "cell_type": "markdown",
      "source": [
        "Multiply:\n",
        "<br>\n",
        "for dot or matrix multiplication column of 1st matrix == row of 2nd matrix for calculation otherwise errror.<br>\n",
        "but the dimension is row of 1st and 2nd cloumn"
      ],
      "metadata": {
        "id": "oXjXy1FxjTG5"
      }
    },
    {
      "cell_type": "code",
      "source": [
        "# elementwise mutiplication\n",
        "tensor*tensor"
      ],
      "metadata": {
        "colab": {
          "base_uri": "https://localhost:8080/"
        },
        "id": "26_HnnIOOKMb",
        "outputId": "c0c3444c-c30f-4612-f28c-55dcd862b527"
      },
      "execution_count": null,
      "outputs": [
        {
          "output_type": "execute_result",
          "data": {
            "text/plain": [
              "tensor([1, 4, 9])"
            ]
          },
          "metadata": {},
          "execution_count": 14
        }
      ]
    },
    {
      "cell_type": "code",
      "source": [
        "torch.matmul(tensor,tensor) #dot product"
      ],
      "metadata": {
        "colab": {
          "base_uri": "https://localhost:8080/"
        },
        "id": "bvUsRJRKSjGw",
        "outputId": "4ecea3e6-32f1-44eb-dbcc-3d555d87fa57"
      },
      "execution_count": null,
      "outputs": [
        {
          "output_type": "execute_result",
          "data": {
            "text/plain": [
              "tensor(14)"
            ]
          },
          "metadata": {},
          "execution_count": 15
        }
      ]
    },
    {
      "cell_type": "code",
      "source": [
        "matrix1= torch.rand(3,4)\n",
        "matrix2= torch.rand(4,4)\n",
        "martix_mul=torch.matmul(matrix1,matrix2)  # matrix1 @ matrix2 do same thing"
      ],
      "metadata": {
        "id": "OuY40614Ud-g"
      },
      "execution_count": null,
      "outputs": []
    },
    {
      "cell_type": "code",
      "source": [
        "martix_mul.shape"
      ],
      "metadata": {
        "colab": {
          "base_uri": "https://localhost:8080/"
        },
        "id": "BwvIpnk9kcjS",
        "outputId": "52885cbe-6e33-4d74-8527-db129eab838d"
      },
      "execution_count": null,
      "outputs": [
        {
          "output_type": "execute_result",
          "data": {
            "text/plain": [
              "torch.Size([3, 4])"
            ]
          },
          "metadata": {},
          "execution_count": 22
        }
      ]
    },
    {
      "cell_type": "markdown",
      "source": [
        "to fix matrix mult problem of shape issues is we need to transpose.\n",
        "`matrix.T`"
      ],
      "metadata": {
        "id": "MHgqEz3VmrOq"
      }
    },
    {
      "cell_type": "code",
      "source": [
        "matrix3= torch.rand(3,4)\n",
        "matrix3.shape"
      ],
      "metadata": {
        "colab": {
          "base_uri": "https://localhost:8080/"
        },
        "id": "YVv0ruO1mp3V",
        "outputId": "f3d10020-95b8-4cf4-cdd3-2b0b88525560"
      },
      "execution_count": null,
      "outputs": [
        {
          "output_type": "execute_result",
          "data": {
            "text/plain": [
              "torch.Size([3, 4])"
            ]
          },
          "metadata": {},
          "execution_count": 25
        }
      ]
    },
    {
      "cell_type": "code",
      "source": [
        "matrix3.T.shape"
      ],
      "metadata": {
        "colab": {
          "base_uri": "https://localhost:8080/"
        },
        "id": "OE6MBPkdoan6",
        "outputId": "4de93985-6dc2-4b1f-c1ae-6b17b0cd6d69"
      },
      "execution_count": null,
      "outputs": [
        {
          "output_type": "execute_result",
          "data": {
            "text/plain": [
              "torch.Size([4, 3])"
            ]
          },
          "metadata": {},
          "execution_count": 26
        }
      ]
    },
    {
      "cell_type": "markdown",
      "source": [
        "### min, max, mean, sum (tensor aggregation)"
      ],
      "metadata": {
        "id": "xLiygSwlsMxO"
      }
    },
    {
      "cell_type": "code",
      "source": [
        " x = torch.arange(0, 100, 10)\n",
        " x, x.dtype"
      ],
      "metadata": {
        "id": "zRLYud1xpB8S",
        "colab": {
          "base_uri": "https://localhost:8080/"
        },
        "outputId": "447e70b1-56d1-4b69-b246-2df872a0e6ad"
      },
      "execution_count": null,
      "outputs": [
        {
          "output_type": "execute_result",
          "data": {
            "text/plain": [
              "(tensor([ 0, 10, 20, 30, 40, 50, 60, 70, 80, 90]), torch.int64)"
            ]
          },
          "metadata": {},
          "execution_count": 6
        }
      ]
    },
    {
      "cell_type": "code",
      "source": [
        "torch.min(x), x.min()"
      ],
      "metadata": {
        "colab": {
          "base_uri": "https://localhost:8080/"
        },
        "id": "yp4jNMW9srPU",
        "outputId": "af9f9334-0955-4e1d-e605-4a7ea069f2d8"
      },
      "execution_count": null,
      "outputs": [
        {
          "output_type": "execute_result",
          "data": {
            "text/plain": [
              "(tensor(0), tensor(0))"
            ]
          },
          "metadata": {},
          "execution_count": 4
        }
      ]
    },
    {
      "cell_type": "code",
      "source": [
        "torch.max(x), x.max()"
      ],
      "metadata": {
        "colab": {
          "base_uri": "https://localhost:8080/"
        },
        "id": "ebfBDP7isxZb",
        "outputId": "e309eb0d-c498-4184-b3b6-392bcf50938f"
      },
      "execution_count": null,
      "outputs": [
        {
          "output_type": "execute_result",
          "data": {
            "text/plain": [
              "(tensor(90), tensor(90))"
            ]
          },
          "metadata": {},
          "execution_count": 5
        }
      ]
    },
    {
      "cell_type": "markdown",
      "source": [
        "torch.mean(x)\n",
        "\n",
        "RuntimeError                              Traceback (most recent call last)\n",
        "<ipython-input-7-455868396db1> in <cell line: 1>()\n",
        "----> 1 torch.mean(x)\n",
        "\n",
        "RuntimeError: mean(): could not infer output dtype. Input dtype must be either a floating point or complex dtype. Got: Long\n"
      ],
      "metadata": {
        "id": "tBvEue7VtS6D"
      }
    },
    {
      "cell_type": "code",
      "source": [
        "# so we need to convert to float\n",
        "torch.mean(x.type(torch.float32)), x.type(torch.float32).mean()"
      ],
      "metadata": {
        "colab": {
          "base_uri": "https://localhost:8080/"
        },
        "id": "NOJskvZxs66w",
        "outputId": "f0d5a85e-91c6-4cf6-afcb-1b0e858f99e1"
      },
      "execution_count": null,
      "outputs": [
        {
          "output_type": "execute_result",
          "data": {
            "text/plain": [
              "(tensor(45.), tensor(45.))"
            ]
          },
          "metadata": {},
          "execution_count": 8
        }
      ]
    },
    {
      "cell_type": "code",
      "source": [
        "torch.sum(x)"
      ],
      "metadata": {
        "colab": {
          "base_uri": "https://localhost:8080/"
        },
        "id": "v-XlCaTivqRF",
        "outputId": "7288e11c-3c20-414a-999b-0e266c497c88"
      },
      "execution_count": null,
      "outputs": [
        {
          "output_type": "execute_result",
          "data": {
            "text/plain": [
              "tensor(450)"
            ]
          },
          "metadata": {},
          "execution_count": 12
        }
      ]
    },
    {
      "cell_type": "code",
      "source": [
        "# find the positional in tensor\n",
        "x.argmin()"
      ],
      "metadata": {
        "colab": {
          "base_uri": "https://localhost:8080/"
        },
        "id": "3g7h9QSTvFP0",
        "outputId": "60e83b5d-b5b9-44ba-d9d1-47a345ff9a25"
      },
      "execution_count": null,
      "outputs": [
        {
          "output_type": "execute_result",
          "data": {
            "text/plain": [
              "tensor(0)"
            ]
          },
          "metadata": {},
          "execution_count": 9
        }
      ]
    },
    {
      "cell_type": "code",
      "source": [
        "x.argmax()"
      ],
      "metadata": {
        "colab": {
          "base_uri": "https://localhost:8080/"
        },
        "id": "VBDzhok6vLvl",
        "outputId": "d5f5a591-faf5-46cd-9b59-760546c6ab74"
      },
      "execution_count": null,
      "outputs": [
        {
          "output_type": "execute_result",
          "data": {
            "text/plain": [
              "tensor(9)"
            ]
          },
          "metadata": {},
          "execution_count": 10
        }
      ]
    },
    {
      "cell_type": "code",
      "source": [
        "x[0], x[9]"
      ],
      "metadata": {
        "colab": {
          "base_uri": "https://localhost:8080/"
        },
        "id": "3MmvhQ-4vQCL",
        "outputId": "928f3219-9de1-4c3d-cbbc-7383e6cdf899"
      },
      "execution_count": null,
      "outputs": [
        {
          "output_type": "execute_result",
          "data": {
            "text/plain": [
              "(tensor(0), tensor(90))"
            ]
          },
          "metadata": {},
          "execution_count": 11
        }
      ]
    },
    {
      "cell_type": "markdown",
      "source": [
        "### Reshaping, stacking, squeezing, unsqueezing\n",
        "* reshaping- reshaping an input tensor to define shape\n",
        "* view- return view of input tensor  of certain shape but keep same memory as the orginal tensor\n",
        "* stacking- combine multiple tensor on top of each other (vstack) or side by side (h stack)\n",
        "* squeeze- remove all 1 dimension from a tensor\n",
        "* unsqueeze - add a 1 dimension to a target tensor\n",
        "* permute- Return a view of the input with dimension permuted(swapped) in certain way"
      ],
      "metadata": {
        "id": "xIZJ7-lz2onM"
      }
    },
    {
      "cell_type": "code",
      "source": [
        "x= torch.arange(1., 10.)\n",
        "x, x.shape, x.ndim"
      ],
      "metadata": {
        "id": "ariDulCT2nuE",
        "colab": {
          "base_uri": "https://localhost:8080/"
        },
        "outputId": "95ed07a9-412d-435c-bedf-df6bdb1f240f"
      },
      "execution_count": null,
      "outputs": [
        {
          "output_type": "execute_result",
          "data": {
            "text/plain": [
              "(tensor([1., 2., 3., 4., 5., 6., 7., 8., 9.]), torch.Size([9]), 1)"
            ]
          },
          "metadata": {},
          "execution_count": 7
        }
      ]
    },
    {
      "cell_type": "code",
      "source": [
        "#add extra dim\n",
        "x_reshaped= x.reshape(1,9)\n",
        "x_reshaped, x_reshaped.shape, x_reshaped.ndim"
      ],
      "metadata": {
        "colab": {
          "base_uri": "https://localhost:8080/"
        },
        "id": "h30zCjLYbYkN",
        "outputId": "51b45961-4168-4828-8691-6253aaab6d92"
      },
      "execution_count": null,
      "outputs": [
        {
          "output_type": "execute_result",
          "data": {
            "text/plain": [
              "(tensor([[1., 2., 3., 4., 5., 6., 7., 8., 9.]]), torch.Size([1, 9]), 2)"
            ]
          },
          "metadata": {},
          "execution_count": 8
        }
      ]
    },
    {
      "cell_type": "code",
      "source": [
        "#add extra dim\n",
        "x_reshaped1= x.reshape(3,3)\n",
        "x_reshaped1, x_reshaped1.shape, x_reshaped1.ndim"
      ],
      "metadata": {
        "colab": {
          "base_uri": "https://localhost:8080/"
        },
        "id": "gHeIpT_Octbc",
        "outputId": "cede5865-0a6a-418e-bbbe-80eb83db5164"
      },
      "execution_count": null,
      "outputs": [
        {
          "output_type": "execute_result",
          "data": {
            "text/plain": [
              "(tensor([[5., 2., 3.],\n",
              "         [4., 5., 6.],\n",
              "         [7., 8., 9.]]),\n",
              " torch.Size([3, 3]),\n",
              " 2)"
            ]
          },
          "metadata": {},
          "execution_count": 13
        }
      ]
    },
    {
      "cell_type": "code",
      "source": [
        "#change the view\n",
        "z= x.view(1,9)\n",
        "z, z.shape, z.ndim"
      ],
      "metadata": {
        "colab": {
          "base_uri": "https://localhost:8080/"
        },
        "id": "gfx4Q9W4c6D9",
        "outputId": "f5e99686-83ec-4a16-85b8-90f46dcd81f1"
      },
      "execution_count": null,
      "outputs": [
        {
          "output_type": "execute_result",
          "data": {
            "text/plain": [
              "(tensor([[5., 2., 3., 4., 5., 6., 7., 8., 9.]]), torch.Size([1, 9]), 2)"
            ]
          },
          "metadata": {},
          "execution_count": 12
        }
      ]
    },
    {
      "cell_type": "code",
      "source": [
        "#changing z change x (because a view of a tensor shares the same memory as the orginal)\n",
        "z[:,0]= 5\n",
        "z,x"
      ],
      "metadata": {
        "colab": {
          "base_uri": "https://localhost:8080/"
        },
        "id": "sn_noJPqdObq",
        "outputId": "67d2758c-a7c5-4a3c-e38c-4b4e9b24a087"
      },
      "execution_count": null,
      "outputs": [
        {
          "output_type": "execute_result",
          "data": {
            "text/plain": [
              "(tensor([[5., 2., 3., 4., 5., 6., 7., 8., 9.]]),\n",
              " tensor([5., 2., 3., 4., 5., 6., 7., 8., 9.]))"
            ]
          },
          "metadata": {},
          "execution_count": 11
        }
      ]
    },
    {
      "cell_type": "code",
      "source": [
        "#stack tensor on top of each other\n",
        "x_stacked = torch.stack([x,x,x,x,x], dim=0)\n",
        "x_stacked"
      ],
      "metadata": {
        "colab": {
          "base_uri": "https://localhost:8080/"
        },
        "id": "8Ou-w3x4du8m",
        "outputId": "aaa9d9de-43dd-49e8-ce07-cbad2e2af314"
      },
      "execution_count": null,
      "outputs": [
        {
          "output_type": "execute_result",
          "data": {
            "text/plain": [
              "tensor([[5., 2., 3., 4., 5., 6., 7., 8., 9.],\n",
              "        [5., 2., 3., 4., 5., 6., 7., 8., 9.],\n",
              "        [5., 2., 3., 4., 5., 6., 7., 8., 9.],\n",
              "        [5., 2., 3., 4., 5., 6., 7., 8., 9.],\n",
              "        [5., 2., 3., 4., 5., 6., 7., 8., 9.]])"
            ]
          },
          "metadata": {},
          "execution_count": 21
        }
      ]
    },
    {
      "cell_type": "code",
      "source": [
        "x_vstack= torch.vstack((x,x))\n",
        "x_vstack"
      ],
      "metadata": {
        "colab": {
          "base_uri": "https://localhost:8080/"
        },
        "id": "Wpfbjfjge8gs",
        "outputId": "4d153cc1-2410-4ec2-b81c-c095e5353a2b"
      },
      "execution_count": null,
      "outputs": [
        {
          "output_type": "execute_result",
          "data": {
            "text/plain": [
              "tensor([[5., 2., 3., 4., 5., 6., 7., 8., 9.],\n",
              "        [5., 2., 3., 4., 5., 6., 7., 8., 9.]])"
            ]
          },
          "metadata": {},
          "execution_count": 32
        }
      ]
    },
    {
      "cell_type": "code",
      "source": [
        "x_hstack= torch.hstack((x,x))\n",
        "x_hstack"
      ],
      "metadata": {
        "colab": {
          "base_uri": "https://localhost:8080/"
        },
        "id": "feMjrzhWf-1-",
        "outputId": "df9cddf9-8eeb-49b3-bda7-48d44f99c7ce"
      },
      "execution_count": null,
      "outputs": [
        {
          "output_type": "execute_result",
          "data": {
            "text/plain": [
              "tensor([5., 2., 3., 4., 5., 6., 7., 8., 9., 5., 2., 3., 4., 5., 6., 7., 8., 9.])"
            ]
          },
          "metadata": {},
          "execution_count": 33
        }
      ]
    },
    {
      "cell_type": "code",
      "source": [
        "x_reshaped.shape"
      ],
      "metadata": {
        "colab": {
          "base_uri": "https://localhost:8080/"
        },
        "id": "fSV-Ommzgsqi",
        "outputId": "0cfc9fd3-77c7-4930-eafc-70e8f482dc2f"
      },
      "execution_count": null,
      "outputs": [
        {
          "output_type": "execute_result",
          "data": {
            "text/plain": [
              "torch.Size([1, 9])"
            ]
          },
          "metadata": {},
          "execution_count": 36
        }
      ]
    },
    {
      "cell_type": "code",
      "source": [
        "# squeeze\n",
        "x= x_reshaped.squeeze()\n",
        "x, x.shape, x.ndim"
      ],
      "metadata": {
        "colab": {
          "base_uri": "https://localhost:8080/"
        },
        "id": "lQ-EiedkgDpe",
        "outputId": "84ddeb80-780e-4de0-c1b6-81079f44f722"
      },
      "execution_count": null,
      "outputs": [
        {
          "output_type": "execute_result",
          "data": {
            "text/plain": [
              "(tensor([5., 2., 3., 4., 5., 6., 7., 8., 9.]), torch.Size([9]), 1)"
            ]
          },
          "metadata": {},
          "execution_count": 35
        }
      ]
    },
    {
      "cell_type": "code",
      "source": [
        "#unsqueeze - add a single dimension to a target tensor\n",
        "x_unsqueezed= x.unsqueeze(dim=1)\n",
        "x_unsqueezed, x_unsqueezed.shape, x_unsqueezed.ndim"
      ],
      "metadata": {
        "colab": {
          "base_uri": "https://localhost:8080/"
        },
        "id": "xklzgWf8hcTL",
        "outputId": "72c25a23-6e55-465e-85a3-6efa0dfb4141"
      },
      "execution_count": null,
      "outputs": [
        {
          "output_type": "execute_result",
          "data": {
            "text/plain": [
              "(tensor([[5.],\n",
              "         [2.],\n",
              "         [3.],\n",
              "         [4.],\n",
              "         [5.],\n",
              "         [6.],\n",
              "         [7.],\n",
              "         [8.],\n",
              "         [9.]]),\n",
              " torch.Size([9, 1]),\n",
              " 2)"
            ]
          },
          "metadata": {},
          "execution_count": 43
        }
      ]
    },
    {
      "cell_type": "code",
      "source": [
        "#permute\n",
        "x_original= torch.rand(size=(4,2,3))\n",
        "x_original.shape, x_original"
      ],
      "metadata": {
        "colab": {
          "base_uri": "https://localhost:8080/"
        },
        "id": "lZpXkx7_iD9c",
        "outputId": "daf67860-a4f2-416e-bd51-fffae2607a1e"
      },
      "execution_count": null,
      "outputs": [
        {
          "output_type": "execute_result",
          "data": {
            "text/plain": [
              "(torch.Size([4, 2, 3]),\n",
              " tensor([[[0.9468, 0.2138, 0.9495],\n",
              "          [0.0131, 0.1263, 0.9352]],\n",
              " \n",
              "         [[0.1198, 0.3384, 0.9336],\n",
              "          [0.8850, 0.2595, 0.9201]],\n",
              " \n",
              "         [[0.5544, 0.1125, 0.2422],\n",
              "          [0.8162, 0.8941, 0.2178]],\n",
              " \n",
              "         [[0.6391, 0.3728, 0.1715],\n",
              "          [0.9467, 0.4905, 0.9238]]]))"
            ]
          },
          "metadata": {},
          "execution_count": 46
        }
      ]
    },
    {
      "cell_type": "code",
      "source": [
        "x_permuted= x_original.permute(2,1,0)\n",
        "x_permuted.shape, x_permuted"
      ],
      "metadata": {
        "colab": {
          "base_uri": "https://localhost:8080/"
        },
        "id": "XuCSxy-kibk6",
        "outputId": "ffe1aee3-3029-4dab-ef3b-ebd513b113c7"
      },
      "execution_count": null,
      "outputs": [
        {
          "output_type": "execute_result",
          "data": {
            "text/plain": [
              "(torch.Size([3, 2, 4]),\n",
              " tensor([[[0.9468, 0.1198, 0.5544, 0.6391],\n",
              "          [0.0131, 0.8850, 0.8162, 0.9467]],\n",
              " \n",
              "         [[0.2138, 0.3384, 0.1125, 0.3728],\n",
              "          [0.1263, 0.2595, 0.8941, 0.4905]],\n",
              " \n",
              "         [[0.9495, 0.9336, 0.2422, 0.1715],\n",
              "          [0.9352, 0.9201, 0.2178, 0.9238]]]))"
            ]
          },
          "metadata": {},
          "execution_count": 48
        }
      ]
    },
    {
      "cell_type": "markdown",
      "source": [
        "###Indexing"
      ],
      "metadata": {
        "id": "lwhIzEFqjyCv"
      }
    },
    {
      "cell_type": "code",
      "source": [
        "y= torch.arange(1,10).reshape(1,3,3)\n",
        "y, y.shape"
      ],
      "metadata": {
        "colab": {
          "base_uri": "https://localhost:8080/"
        },
        "id": "T5owY-FAj0yw",
        "outputId": "d368356f-d2ea-4f76-b309-264d0efa1b03"
      },
      "execution_count": null,
      "outputs": [
        {
          "output_type": "execute_result",
          "data": {
            "text/plain": [
              "(tensor([[[1, 2, 3],\n",
              "          [4, 5, 6],\n",
              "          [7, 8, 9]]]),\n",
              " torch.Size([1, 3, 3]))"
            ]
          },
          "metadata": {},
          "execution_count": 50
        }
      ]
    },
    {
      "cell_type": "code",
      "source": [
        "y[0][1][2] # select specific place digit"
      ],
      "metadata": {
        "colab": {
          "base_uri": "https://localhost:8080/"
        },
        "id": "5Nst00hlkEmW",
        "outputId": "bb6830b1-792a-433e-c9b0-e1001b6cda07"
      },
      "execution_count": null,
      "outputs": [
        {
          "output_type": "execute_result",
          "data": {
            "text/plain": [
              "tensor(6)"
            ]
          },
          "metadata": {},
          "execution_count": 54
        }
      ]
    },
    {
      "cell_type": "code",
      "source": [
        "# all value of 0 dim but 1 index value of 3nd\n",
        "y[:,1,2]"
      ],
      "metadata": {
        "colab": {
          "base_uri": "https://localhost:8080/"
        },
        "id": "czEWKQ5SmMk8",
        "outputId": "20138eb4-7be0-42e3-b9f3-8b7604b18d20"
      },
      "execution_count": null,
      "outputs": [
        {
          "output_type": "execute_result",
          "data": {
            "text/plain": [
              "tensor([6])"
            ]
          },
          "metadata": {},
          "execution_count": 59
        }
      ]
    },
    {
      "cell_type": "code",
      "source": [
        "#use \":\" to select \"all\" of a target dimension\n",
        "y[:, 2]"
      ],
      "metadata": {
        "colab": {
          "base_uri": "https://localhost:8080/"
        },
        "id": "5i90aQCWlCkk",
        "outputId": "faf04a27-0260-42e3-9b39-6679e557b9df"
      },
      "execution_count": null,
      "outputs": [
        {
          "output_type": "execute_result",
          "data": {
            "text/plain": [
              "tensor([[7, 8, 9]])"
            ]
          },
          "metadata": {},
          "execution_count": 55
        }
      ]
    },
    {
      "cell_type": "code",
      "source": [
        "# all value of 0th and 1st dimension but only index 1 of 3nd dim\n",
        "y[:,:,2]"
      ],
      "metadata": {
        "colab": {
          "base_uri": "https://localhost:8080/"
        },
        "id": "jRn9dfwFlez5",
        "outputId": "5f2e9834-068a-4c91-cdb0-cb899b31c173"
      },
      "execution_count": null,
      "outputs": [
        {
          "output_type": "execute_result",
          "data": {
            "text/plain": [
              "tensor([[3, 6, 9]])"
            ]
          },
          "metadata": {},
          "execution_count": 58
        }
      ]
    },
    {
      "cell_type": "markdown",
      "source": [
        "###pytorch tensor and numpy\n",
        "* Data in NumPy, want in PyTorch tensor -> `torch.from_numpy(ndarray)`\n",
        "* pytorch tensor -> `torch.Tensor.numpy()`"
      ],
      "metadata": {
        "id": "gka1nmgb_Yfs"
      }
    },
    {
      "cell_type": "code",
      "source": [
        "import torch\n",
        "import pandas as pd\n",
        "import numpy as np"
      ],
      "metadata": {
        "id": "5pG7Ti2-AGdA"
      },
      "execution_count": null,
      "outputs": []
    },
    {
      "cell_type": "code",
      "source": [
        "array= np.arange(1.0, 8.0)\n",
        "tensor =torch.from_numpy(array)\n",
        "array, tensor"
      ],
      "metadata": {
        "colab": {
          "base_uri": "https://localhost:8080/"
        },
        "id": "LY7SffgaAi4O",
        "outputId": "9e7872df-680b-4198-d4c1-e040aab1e639"
      },
      "execution_count": null,
      "outputs": [
        {
          "output_type": "execute_result",
          "data": {
            "text/plain": [
              "(array([1., 2., 3., 4., 5., 6., 7.]),\n",
              " tensor([1., 2., 3., 4., 5., 6., 7.], dtype=torch.float64))"
            ]
          },
          "metadata": {},
          "execution_count": 3
        }
      ]
    },
    {
      "cell_type": "code",
      "source": [
        "#default data type of numpy is float64\n",
        "array.dtype, tensor.dtype"
      ],
      "metadata": {
        "colab": {
          "base_uri": "https://localhost:8080/"
        },
        "id": "n3Q-a4_OAfIP",
        "outputId": "733f4633-2bfc-4cde-de52-076990dcda30"
      },
      "execution_count": null,
      "outputs": [
        {
          "output_type": "execute_result",
          "data": {
            "text/plain": [
              "(dtype('float64'), torch.float64)"
            ]
          },
          "metadata": {},
          "execution_count": 4
        }
      ]
    },
    {
      "cell_type": "code",
      "source": [
        "#convert\n",
        "tensor.type(torch.float32)"
      ],
      "metadata": {
        "colab": {
          "base_uri": "https://localhost:8080/"
        },
        "id": "Kn7UtZQqA5FG",
        "outputId": "29d690df-3881-4b23-958e-2c3e4b20aabb"
      },
      "execution_count": null,
      "outputs": [
        {
          "output_type": "execute_result",
          "data": {
            "text/plain": [
              "tensor([1., 2., 3., 4., 5., 6., 7.])"
            ]
          },
          "metadata": {},
          "execution_count": 5
        }
      ]
    },
    {
      "cell_type": "code",
      "source": [
        "#tensor to numpy\n",
        "tensor= torch.ones(4)\n",
        "numpy_tensor= tensor.numpy()\n",
        "tensor, numpy_tensor"
      ],
      "metadata": {
        "colab": {
          "base_uri": "https://localhost:8080/"
        },
        "id": "Ero7in5wBnrU",
        "outputId": "d41a15ae-e0ed-40d5-c60c-8bc453a88e6b"
      },
      "execution_count": null,
      "outputs": [
        {
          "output_type": "execute_result",
          "data": {
            "text/plain": [
              "(tensor([1., 1., 1., 1.]), array([1., 1., 1., 1.], dtype=float32))"
            ]
          },
          "metadata": {},
          "execution_count": 6
        }
      ]
    },
    {
      "cell_type": "code",
      "source": [
        "#change tensor\n",
        "tensor= tensor+1\n",
        "tensor, numpy_tensor"
      ],
      "metadata": {
        "colab": {
          "base_uri": "https://localhost:8080/"
        },
        "id": "GolWn6kuH8x_",
        "outputId": "9ee01280-478b-4760-a6d4-184d843509f0"
      },
      "execution_count": null,
      "outputs": [
        {
          "output_type": "execute_result",
          "data": {
            "text/plain": [
              "(tensor([2., 2., 2., 2.]), array([1., 1., 1., 1.], dtype=float32))"
            ]
          },
          "metadata": {},
          "execution_count": 7
        }
      ]
    },
    {
      "cell_type": "markdown",
      "source": [
        "### Reproducibility (trying to take random out of random)\n",
        "in short how a NN learns\n",
        "`start with random numbers-> tensor operations -> update random numbers to try and make them of the data -> repeat again`\n",
        "To reduce the randomness in neural networks and pytorch comes the concept of a random seed.\n",
        "\n"
      ],
      "metadata": {
        "id": "7BE77A9EIiSS"
      }
    },
    {
      "cell_type": "code",
      "source": [
        "#set the random seed\n",
        "RANDOM_SEED = 42\n",
        "#create tensor1\n",
        "torch.manual_seed(RANDOM_SEED)\n",
        "random_tensor1= torch.rand(3,4)\n",
        "\n",
        "#create tensor2\n",
        "torch.manual_seed(RANDOM_SEED)\n",
        "random_tensor2= torch.rand(3,4)\n",
        "\n",
        "print(random_tensor1)\n",
        "print(random_tensor2)\n",
        "# they same value though they are random because of seed value same\n",
        "print(random_tensor1==random_tensor2)"
      ],
      "metadata": {
        "colab": {
          "base_uri": "https://localhost:8080/"
        },
        "id": "TkoCXlj0MoI8",
        "outputId": "753a8d78-b5d7-44fe-b01e-1a309fce4580"
      },
      "execution_count": null,
      "outputs": [
        {
          "output_type": "stream",
          "name": "stdout",
          "text": [
            "tensor([[0.8823, 0.9150, 0.3829, 0.9593],\n",
            "        [0.3904, 0.6009, 0.2566, 0.7936],\n",
            "        [0.9408, 0.1332, 0.9346, 0.5936]])\n",
            "tensor([[0.8823, 0.9150, 0.3829, 0.9593],\n",
            "        [0.3904, 0.6009, 0.2566, 0.7936],\n",
            "        [0.9408, 0.1332, 0.9346, 0.5936]])\n",
            "tensor([[True, True, True, True],\n",
            "        [True, True, True, True],\n",
            "        [True, True, True, True]])\n"
          ]
        }
      ]
    },
    {
      "cell_type": "markdown",
      "source": [
        "## Runinng tensors and pytorch object in GPUs"
      ],
      "metadata": {
        "id": "JjNs2ABZOb2W"
      }
    },
    {
      "cell_type": "code",
      "source": [
        "import torch\n",
        "torch.cuda.is_available()"
      ],
      "metadata": {
        "colab": {
          "base_uri": "https://localhost:8080/"
        },
        "id": "-3mqKigdP4fV",
        "outputId": "05159395-18c7-4ea3-cd44-72966d8c96f2"
      },
      "execution_count": null,
      "outputs": [
        {
          "output_type": "execute_result",
          "data": {
            "text/plain": [
              "True"
            ]
          },
          "metadata": {},
          "execution_count": 1
        }
      ]
    },
    {
      "cell_type": "code",
      "source": [
        "#running on CPU\n",
        "tensor = torch.tensor([1,2,3], device='cpu')\n",
        "print(tensor, tensor.device)"
      ],
      "metadata": {
        "colab": {
          "base_uri": "https://localhost:8080/"
        },
        "id": "XHUkAfmzRERW",
        "outputId": "7199e378-9469-419c-be1b-1f29e361db46"
      },
      "execution_count": null,
      "outputs": [
        {
          "output_type": "stream",
          "name": "stdout",
          "text": [
            "tensor([1, 2, 3]) cpu\n"
          ]
        }
      ]
    },
    {
      "cell_type": "code",
      "source": [
        "device= \"cuda\" if torch.cuda.is_available() else \"cpu\"\n",
        "device"
      ],
      "metadata": {
        "colab": {
          "base_uri": "https://localhost:8080/",
          "height": 36
        },
        "id": "RJZbTJ1hR4-q",
        "outputId": "f622c4e2-e9d1-4b33-c7e6-bdb77c7cdc89"
      },
      "execution_count": null,
      "outputs": [
        {
          "output_type": "execute_result",
          "data": {
            "text/plain": [
              "'cuda'"
            ],
            "application/vnd.google.colaboratory.intrinsic+json": {
              "type": "string"
            }
          },
          "metadata": {},
          "execution_count": 3
        }
      ]
    },
    {
      "cell_type": "code",
      "source": [
        "#move tensor to GPU (if available)\n",
        "tensor_on_gpu = tensor.to(device)\n",
        "tensor_on_gpu"
      ],
      "metadata": {
        "colab": {
          "base_uri": "https://localhost:8080/"
        },
        "id": "HxNDqqdZRhaU",
        "outputId": "eab33741-be7a-4aa8-853d-1ecb0ba8699d"
      },
      "execution_count": null,
      "outputs": [
        {
          "output_type": "execute_result",
          "data": {
            "text/plain": [
              "tensor([1, 2, 3], device='cuda:0')"
            ]
          },
          "metadata": {},
          "execution_count": 4
        }
      ]
    },
    {
      "cell_type": "code",
      "source": [
        "#numpy work with only CPU. so, need to move back to cpu when performing numpy operation\n",
        "#moving tensor back to CPU\n",
        "tensor_on_gpu.cpu().numpy()\n"
      ],
      "metadata": {
        "colab": {
          "base_uri": "https://localhost:8080/"
        },
        "id": "TcMK6rK9ShJs",
        "outputId": "c0bbb6d8-5c99-48e1-9362-41d058525bde"
      },
      "execution_count": null,
      "outputs": [
        {
          "output_type": "execute_result",
          "data": {
            "text/plain": [
              "array([1, 2, 3])"
            ]
          },
          "metadata": {},
          "execution_count": 5
        }
      ]
    },
    {
      "cell_type": "markdown",
      "source": [
        "still GPU tensor remain unchange since they perform speratly"
      ],
      "metadata": {
        "id": "gUXXIbdVTR3b"
      }
    },
    {
      "cell_type": "code",
      "source": [
        "# check GPU\n",
        "!nvidia-smi"
      ],
      "metadata": {
        "colab": {
          "base_uri": "https://localhost:8080/"
        },
        "id": "dqofQPa7TBWM",
        "outputId": "9cfe46d1-3f24-4590-f982-62414a6e262e"
      },
      "execution_count": null,
      "outputs": [
        {
          "output_type": "stream",
          "name": "stdout",
          "text": [
            "Mon Jul 15 16:51:19 2024       \n",
            "+---------------------------------------------------------------------------------------+\n",
            "| NVIDIA-SMI 535.104.05             Driver Version: 535.104.05   CUDA Version: 12.2     |\n",
            "|-----------------------------------------+----------------------+----------------------+\n",
            "| GPU  Name                 Persistence-M | Bus-Id        Disp.A | Volatile Uncorr. ECC |\n",
            "| Fan  Temp   Perf          Pwr:Usage/Cap |         Memory-Usage | GPU-Util  Compute M. |\n",
            "|                                         |                      |               MIG M. |\n",
            "|=========================================+======================+======================|\n",
            "|   0  Tesla T4                       Off | 00000000:00:04.0 Off |                    0 |\n",
            "| N/A   64C    P0              30W /  70W |    105MiB / 15360MiB |      0%      Default |\n",
            "|                                         |                      |                  N/A |\n",
            "+-----------------------------------------+----------------------+----------------------+\n",
            "                                                                                         \n",
            "+---------------------------------------------------------------------------------------+\n",
            "| Processes:                                                                            |\n",
            "|  GPU   GI   CI        PID   Type   Process name                            GPU Memory |\n",
            "|        ID   ID                                                             Usage      |\n",
            "|=======================================================================================|\n",
            "+---------------------------------------------------------------------------------------+\n"
          ]
        }
      ]
    }
  ]
}